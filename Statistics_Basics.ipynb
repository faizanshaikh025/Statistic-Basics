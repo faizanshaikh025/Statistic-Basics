{
  "nbformat": 4,
  "nbformat_minor": 0,
  "metadata": {
    "colab": {
      "provenance": []
    },
    "kernelspec": {
      "name": "python3",
      "display_name": "Python 3"
    },
    "language_info": {
      "name": "python"
    }
  },
  "cells": [
    {
      "cell_type": "code",
      "execution_count": null,
      "metadata": {
        "id": "ls3ohay9VB4N"
      },
      "outputs": [],
      "source": []
    },
    {
      "cell_type": "markdown",
      "source": [
        "#Statistics Basics\n",
        "\n",
        "\n",
        "**1. What is statistics, and why is it important?**\n",
        "\n",
        "Statistics is the science of collecting, analyzing, interpreting, presenting, and organizing data in such a way that meaningful concluion can be drawn from them. It is important because it helps in decision-making, identifying trends, testing hypotheses, and making predictions based on data.\n",
        "\n",
        "\n",
        "\n",
        "**2. What are the two main types of statistics?**\n",
        "\n",
        "* Descriptive Statistics\n",
        "* Inferential Statistics\n",
        "\n",
        "\n",
        "**3. What are descriptive statistics?**\n",
        "\n",
        "Descriptive statistics summarize and describe the main features of a dataset using measures like mean, median, mode, standard deviation, and graphical tools such as histograms and pie charts.\n",
        "\n",
        "\n",
        "\n",
        "**4. What is inferential statistics?**\n",
        "\n",
        "Inferential statistics use a sample of data to make generalizations or predictions about a population. It involves hypothesis testing, confidence intervals, and regression analysis.\n",
        "\n",
        "\n",
        "\n",
        "**5. What is sampling in statistics?**\n",
        "\n",
        "Sampling is the process of selecting a subset of individuals from a population to represent the whole group for statistical analysis.\n",
        "\n",
        "\n",
        "\n",
        "**6. What are the different types of sampling methods?**\n",
        "\n",
        "* Random Sampling\n",
        "* Systematic Sampling\n",
        "* Stratified Sampling\n",
        "* Cluster Sampling\n",
        "* Convenience Sampling\n",
        "* Judgmental/Purposive Sampling\n",
        "\n",
        "\n",
        "\n",
        "**7. What is the difference between random and non-random sampling?**\n",
        "\n",
        "* Random Sampling: Every member has an equal chance of selection; reduces bias.\n",
        "* Non-Random Sampling: Selection is based on judgment or convenience; may introduce bias.\n",
        "\n",
        "\n",
        "\n",
        "**8. Define and give examples of qualitative and quantitative data.**\n",
        "\n",
        "* Qualitative Data: Categorical, non-numeric. Example: Colors, gender, nationality.\n",
        "* Quantitative Data: Numeric and measurable. Example: Age, height, temperature.\n",
        "\n",
        "\n",
        "\n",
        "**9. What are the different types of data in statistics?**\n",
        "\n",
        "Four levels of measurement:\n",
        "\n",
        "1) Nominal\n",
        "2) Ordinal\n",
        "3) Interval\n",
        "4) Ratio\n",
        "\n",
        "\n",
        "\n",
        "\n",
        "**10. Explain nominal, ordinal, interval, and ratio levels of measurement.**\n",
        "\n",
        "   1. Nominal Level:  Data is categorized without any order or ranking.\n",
        "\n",
        "* Characteristics:\n",
        "\n",
        "  * Labels or names only\n",
        "  * No mathematical meaning\n",
        "  * Cannot be ordered or measured\n",
        "\n",
        "*  Examples:\n",
        "\n",
        "  * Gender (Male, Female, Other)\n",
        "  * Marital Status (Single, Married, Divorced)\n",
        "  * Blood Type (A, B, AB, O)\n",
        "\n",
        "\n",
        "   2. Ordinal Level: Data is categorized with a meaningful order, but differences between categories are not measurable.\n",
        "\n",
        "* Characteristics:\n",
        "\n",
        "  * Ordered categories\n",
        "  * No consistent spacing between ranks\n",
        "  * Cannot perform mathematical operations\n",
        "\n",
        "* Examples:\n",
        "\n",
        "  * Education level (High School < Bachelor’s < Master’s < PhD)\n",
        "  * Customer satisfaction (Very Unsatisfied, Unsatisfied, Neutral, Satisfied, Very Satisfied)\n",
        "  * Movie ratings (1 star to 5 stars)\n",
        "\n",
        "\n",
        "  3. Interval Level: Numeric data with meaningful intervals between values, but no true zero point.\n",
        "\n",
        "* Characteristics:\n",
        "\n",
        "  * Ordered and measurable\n",
        "  * Equal spacing between values\n",
        "  * No absolute zero (zero doesn’t mean “none”)\n",
        "\n",
        "* Examples:\n",
        "\n",
        "  * Temperature in Celsius or Fahrenheit (0°C ≠ no temperature)\n",
        "  * Calendar years (2000, 2020)\n",
        "  * IQ scores\n",
        "\n",
        " 4. Ratio Level: Numeric data with all the properties of interval data plus a true zero point.\n",
        "\n",
        "* Characteristics:\n",
        "\n",
        "  * Ordered, measurable, and has a meaningful zero\n",
        "  * Can compute ratios (e.g., one value is twice another)\n",
        "\n",
        "* Examples:\n",
        "\n",
        "  * Weight (0 kg means no weight)\n",
        "  * Height\n",
        "  * Age\n",
        "  * Income\n",
        "\n",
        "\n",
        "\n",
        "\n",
        "**11. What is the measure of central tendency?**\n",
        "\n",
        "It is a statistical measure that identifies the center or average of a dataset (mean, median, mode).\n",
        "\n",
        "\n",
        "\n",
        "**12. Define mean, median, and mode**.\n",
        "\n",
        "* Mean: Average value (sum of values ÷ number of values)\n",
        "* Median: Middle value in an ordered dataset\n",
        "* Mode: Most frequent value(s) in a dataset\n",
        "\n",
        "\n",
        "**13. What is the significance of the measure of central tendency?**\n",
        "\n",
        "It provides a single value that summarizes a dataset and represents a typical value.\n",
        "\n",
        "\n",
        "**14. What is variance, and how is it calculated?**\n",
        "\n",
        "Variance measures how data points differ from the mean.\n",
        "\n",
        "Formula:\n",
        "$\\text{Variance} = \\frac{\\sum (x_i - \\bar{x})^2}{n}$\n",
        "Where $x_i$ = individual value, $\\bar{x}$ = mean, $n$ = number of values.\n",
        "\n",
        "\n",
        "**15. What is standard deviation, and why is it important?**\n",
        "\n",
        "Standard deviation is the square root of variance. It shows the average amount by which data values deviate from the mean. It is important for understanding data spread and consistency.\n",
        "\n",
        "\n",
        "**16. Define and explain the term range in statistics.**\n",
        "\n",
        "Range is the difference between the maximum and minimum values in a dataset.\n",
        "\n",
        "Formula:\n",
        "$\\text{Range} = \\text{Max} - \\text{Min}$\n",
        "\n",
        "\n",
        "**17. What is the difference between variance and standard deviation?**\n",
        "\n",
        "* Variance: Measures spread in squared units\n",
        "* Standard Deviation: Square root of variance; measures spread in original units\n",
        "\n",
        "\n",
        "**18. What is skewness in a dataset?**\n",
        "\n",
        "Skewness measures the asymmetry of the data distribution. A skewed distribution means the data is not symmetrical.\n",
        "\n",
        "\n",
        "**19. What does it mean if a dataset is positively or negatively skewed?**\n",
        "\n",
        "* Positively Skewed: Tail is on the right; most data are on the left.\n",
        "* Negatively Skewed: Tail is on the left; most data are on the right.\n",
        "\n",
        "\n",
        "**20. Define and explain kurtosis.**\n",
        "\n",
        "Kurtosis measures the \"tailedness\" or peak of a data distribution.\n",
        "\n",
        "* High kurtosis: More outliers, sharp peak\n",
        "* Low kurtosis: Fewer outliers, flatter peak\n",
        "\n",
        "\n",
        "**21. What is the purpose of covariance?**\n",
        "\n",
        "Covariance indicates the direction of the relationship between two variables (positive or negative).\n",
        "\n",
        "\n",
        "**22. What does correlation measure in statistics?**\n",
        "\n",
        "Correlation measures the strength and direction of the linear relationship between two variables (range: -1 to +1).\n",
        "\n",
        "\n",
        "**23. What is the difference between covariance and correlation?**\n",
        "\n",
        "* Covariance: Shows direction of relationship, scale-dependent\n",
        "* Correlation: Standardized form of covariance; shows strength and direction (scale-free)\n",
        "\n",
        "\n",
        "**24. What are some real-world applications of statistics?**\n",
        "\n",
        "* Business forecasting\n",
        "* Quality control\n",
        "* Medical research\n",
        "* Government policy-making\n",
        "* Sports analytics\n",
        "* Market research\n",
        "* Education performance analysis.\n"
      ],
      "metadata": {
        "id": "-KeToSJiVIrm"
      }
    },
    {
      "cell_type": "code",
      "source": [
        "|#1) How do you calculate the mean, median, and mode of a dataset?\n",
        "\n",
        "\n",
        "### **1. Mean (Average)**\n",
        "\n",
        "**Formula**:\n",
        "\n",
        "$$\n",
        "\\text{Mean} = \\frac{\\text{Sum of all values}}{\\text{Number of values}}\n",
        "$$\n",
        "\n",
        "**Steps**:\n",
        "\n",
        "1. Add up all the values in the dataset.\n",
        "2. Divide the total by the number of values.\n",
        "\n",
        "**Example**:\n",
        "Dataset = \\[5, 8, 10, 12, 15]\n",
        "Mean = (5 + 8 + 10 + 12 + 15) / 5 = **10**\n",
        "\n",
        "\n",
        "### **2. Median (Middle value)**\n",
        "\n",
        "**Steps**:\n",
        "\n",
        "1. Arrange the data in **ascending order**.\n",
        "2. If the number of values (n) is **odd**, median = middle value.\n",
        "3. If **even**, median = average of the two middle values.\n",
        "\n",
        "**Example 1 (Odd number of values)**:\n",
        "Dataset = \\[3, 7, 9, 11, 14] → Median = **9**\n",
        "\n",
        "**Example 2 (Even number of values)**:\n",
        "Dataset = \\[2, 4, 6, 8] → Median = (4 + 6) / 2 = **5**\n",
        "\n",
        "\n",
        "### **3. Mode (Most frequent value)**\n",
        "\n",
        "# **Steps**:\n",
        "\n",
        "#1. Count how many times each value appears.\n",
        "#2. The value with the **highest frequency** is the mode.\n",
        "\n",
        "#**Example 1**:\n",
        "Dataset = \\[1, 2, 2, 3, 4] → Mode = **2**\n",
        "\n",
        "#**Example 2**:\n",
        "Dataset = \\[5, 6, 7, 8] → No mode (all values occur once)\n",
        "\n",
        "#**Example 3 (Multimodal)**:\n",
        "Dataset = \\[1, 2, 2, 3, 3] → Modes = **2 and 3**\n",
        "\n",
        "\n"
      ],
      "metadata": {
        "colab": {
          "base_uri": "https://localhost:8080/",
          "height": 106
        },
        "id": "SgEjJiMylwu0",
        "outputId": "36c175b5-7d1a-46b3-8b19-f412f8463962"
      },
      "execution_count": null,
      "outputs": [
        {
          "output_type": "error",
          "ename": "SyntaxError",
          "evalue": "invalid syntax (<ipython-input-1-a8accc5f4bb2>, line 6)",
          "traceback": [
            "\u001b[0;36m  File \u001b[0;32m\"<ipython-input-1-a8accc5f4bb2>\"\u001b[0;36m, line \u001b[0;32m6\u001b[0m\n\u001b[0;31m    **Formula**:\u001b[0m\n\u001b[0m    ^\u001b[0m\n\u001b[0;31mSyntaxError\u001b[0m\u001b[0;31m:\u001b[0m invalid syntax\n"
          ]
        }
      ]
    },
    {
      "cell_type": "code",
      "source": [],
      "metadata": {
        "id": "xobX4ve7nlgT"
      },
      "execution_count": null,
      "outputs": []
    },
    {
      "cell_type": "markdown",
      "source": [
        "2) Write a Python program to compute the variance and standard deviation of a dataset"
      ],
      "metadata": {
        "id": "0BpEJP_h1x3L"
      }
    },
    {
      "cell_type": "code",
      "source": [
        "import math\n",
        "\n",
        "# Sample dataset\n",
        "data = [10, 20, 30, 40, 46, 55, 63, 70]\n",
        "\n",
        "# Step 1: Calculate the mean\n",
        "mean = sum(data) / len(data)\n",
        "\n",
        "# Step 2: Calculate the variance\n",
        "squared_diffs = [(x - mean) ** 2 for x in data]\n",
        "variance = sum(squared_diffs) / len(data)  # For population variance\n",
        "\n",
        "# Step 3: Calculate the standard deviation\n",
        "std_deviation = math.sqrt(variance)\n",
        "\n",
        "# Output results\n",
        "print(\"Data:\", data)\n",
        "print(\"Mean:\", mean)\n",
        "print(\"Variance:\", variance)\n",
        "print(\"Standard Deviation:\", std_deviation)\n"
      ],
      "metadata": {
        "colab": {
          "base_uri": "https://localhost:8080/"
        },
        "id": "LXpnJoFV27z4",
        "outputId": "e2904500-61a1-42dc-e8f0-1c489c456b48"
      },
      "execution_count": null,
      "outputs": [
        {
          "output_type": "stream",
          "name": "stdout",
          "text": [
            "Data: [10, 20, 30, 40, 46, 55, 63, 70]\n",
            "Mean: 41.75\n",
            "Variance: 383.1875\n",
            "Standard Deviation: 19.57517560585345\n"
          ]
        }
      ]
    },
    {
      "cell_type": "markdown",
      "source": [
        "3) Create a dataset and classify it into nominal, ordinal, interval, and ratio types."
      ],
      "metadata": {
        "id": "5BhZnjnS4udo"
      }
    },
    {
      "cell_type": "code",
      "source": [
        "# Datasets\n",
        "data = {\n",
        "    'Name': ['A', 'B', 'C', 'D'],\n",
        "    'Gender': ['Female', 'Male', 'Male', 'Male'],\n",
        "    'Education Level': ['High School', 'Bachelor\\'s', 'Master\\'s', 'PhD'],\n",
        "    'Customer Satisfaction': ['Satisfied', 'Very Satisfied', 'Neutral', 'Unsatisfied'],\n",
        "    'Temperature': [25, 28, 22, 20],  # Celsius\n",
        "    'Weight': [60, 75, 80, 90],  # kg\n",
        "    'Years of Experience': [3, 7, 8, 10],\n",
        "    'Income': [80000, 900000, 100000, 120000],\n",
        "}\n",
        "\n",
        "# Classify data types\n",
        "nominal = ['Gender', 'Name']\n",
        "ordinal = ['Education Level', 'Customer Satisfaction']\n",
        "interval = ['Temperature'] # Temperature in Celsius or Fahrenheit.\n",
        "ratio = ['Weight', 'Years of Experience','Income']\n",
        "\n",
        "# Print results\n",
        "print(\"Nominal:\", nominal)\n",
        "print(\"Ordinal:\", ordinal)\n",
        "print(\"Interval:\", interval)\n",
        "print(\"Ratio:\", ratio)\n"
      ],
      "metadata": {
        "colab": {
          "base_uri": "https://localhost:8080/"
        },
        "id": "fJ8y4_iaFixc",
        "outputId": "684fc56f-9903-492b-ee08-99c7817e6c54"
      },
      "execution_count": null,
      "outputs": [
        {
          "output_type": "stream",
          "name": "stdout",
          "text": [
            "Nominal: ['Gender', 'Name']\n",
            "Ordinal: ['Education Level', 'Customer Satisfaction']\n",
            "Interval: ['Temperature']\n",
            "Ratio: ['Weight', 'Years of Experience', 'Income']\n"
          ]
        }
      ]
    },
    {
      "cell_type": "markdown",
      "source": [
        " 4) Implement sampling techniques like random sampling and stratified sampling\n"
      ],
      "metadata": {
        "id": "ezBxnm_TGwSk"
      }
    },
    {
      "cell_type": "code",
      "source": [
        "import random\n",
        "import pandas as pd\n",
        "\n",
        "# Sample population\n",
        "population = ['A', 'B', 'C', 'D', 'E', 'F', 'G', 'H']\n",
        "\n",
        "# Random sample of 3 elements\n",
        "sample_size = 3\n",
        "random_sample = random.sample(population, sample_size)\n",
        "\n",
        "# Create a DataFrame with categories (strata)\n",
        "data = {\n",
        "    'Student': ['A', 'B', 'C', 'D', 'E', 'F', 'G', 'H'],\n",
        "    'Grade': ['Excellent', 'Good', 'Good', 'Average', 'Poor', 'Excellent', 'Poor', 'Average']\n",
        "}\n",
        "df = pd.DataFrame(data)\n",
        "\n",
        "# Define how many samples to take from each stratum\n",
        "stratified_sample = df.groupby('Grade', group_keys=False).apply(lambda x: x.sample(1))\n",
        "\n",
        "\n",
        "print(\"Random Sample:\", random_sample)\n",
        "\n",
        "print(\"Stratified Sample:\\n\", stratified_sample)\n"
      ],
      "metadata": {
        "colab": {
          "base_uri": "https://localhost:8080/"
        },
        "id": "HGkOD51SHMjD",
        "outputId": "ab484913-fe33-4663-b1d9-335778844bf5"
      },
      "execution_count": null,
      "outputs": [
        {
          "output_type": "stream",
          "name": "stdout",
          "text": [
            "Random Sample: ['A', 'D', 'F']\n",
            "Stratified Sample:\n",
            "   Student      Grade\n",
            "7       H    Average\n",
            "0       A  Excellent\n",
            "2       C       Good\n",
            "6       G       Poor\n"
          ]
        },
        {
          "output_type": "stream",
          "name": "stderr",
          "text": [
            "<ipython-input-8-25497ceef6d5>:19: DeprecationWarning: DataFrameGroupBy.apply operated on the grouping columns. This behavior is deprecated, and in a future version of pandas the grouping columns will be excluded from the operation. Either pass `include_groups=False` to exclude the groupings or explicitly select the grouping columns after groupby to silence this warning.\n",
            "  stratified_sample = df.groupby('Grade', group_keys=False).apply(lambda x: x.sample(1))\n"
          ]
        }
      ]
    },
    {
      "cell_type": "markdown",
      "source": [
        "5)  Write a Python function to calculate the range of a dataset"
      ],
      "metadata": {
        "id": "4aVSOOu8JVum"
      }
    },
    {
      "cell_type": "code",
      "source": [
        "def calculate_range(data):\n",
        "    if not data:\n",
        "        return None  # Handle empty dataset\n",
        "    return max(data) - min(data)\n",
        "\n",
        "# Example usage\n",
        "dataset = [12, 15, 22, 17, 5, 10]\n",
        "range_value = calculate_range(dataset)\n",
        "\n",
        "print(\"Dataset:\", dataset)\n",
        "print(\"Range:\", range_value)\n"
      ],
      "metadata": {
        "colab": {
          "base_uri": "https://localhost:8080/"
        },
        "id": "XMzFBtllH8AT",
        "outputId": "6c3ae31d-9fed-4fbc-a4e0-fea2c32f6e1f"
      },
      "execution_count": null,
      "outputs": [
        {
          "output_type": "stream",
          "name": "stdout",
          "text": [
            "Dataset: [12, 15, 22, 17, 5, 10]\n",
            "Range: 17\n"
          ]
        }
      ]
    },
    {
      "cell_type": "markdown",
      "source": [
        "6) Create a dataset and plot its histogram to visualize skewness"
      ],
      "metadata": {
        "id": "0n50txe3JxiE"
      }
    },
    {
      "cell_type": "code",
      "source": [
        "import numpy as np\n",
        "import matplotlib.pyplot as plt\n",
        "import seaborn as sns\n",
        "from scipy.stats import skew\n",
        "\n",
        "# Create a positively skewed dataset\n",
        "data = np.random.exponential(scale=2.0, size=1000)\n",
        "\n",
        "# Calculate skewness\n",
        "skew_value = skew(data)\n",
        "\n",
        "# Plot histogram\n",
        "plt.figure(figsize=(8, 5))\n",
        "sns.histplot(data, bins=30, kde=True, color='cornflowerblue')\n",
        "plt.title(f\"Histogram of Positively Skewed Data (Skewness = {skew_value:.2f})\")\n",
        "plt.xlabel(\"Values\")\n",
        "plt.ylabel(\"Frequency\")\n",
        "plt.grid(True)\n",
        "plt.show()\n"
      ],
      "metadata": {
        "colab": {
          "base_uri": "https://localhost:8080/",
          "height": 487
        },
        "id": "rWHVtVSZJ1nz",
        "outputId": "a0a9d62d-bb54-4c4e-95f0-f5113b06b7e2"
      },
      "execution_count": null,
      "outputs": [
        {
          "output_type": "display_data",
          "data": {
            "text/plain": [
              "<Figure size 800x500 with 1 Axes>"
            ],
            "image/png": "[encoded data removed]"
          },
          "metadata": {}
        }
      ]
    },
    {
      "cell_type": "markdown",
      "source": [
        "7) Calculate skewness and kurtosis of a dataset using Python libraries"
      ],
      "metadata": {
        "id": "pRWAmt8QKCvj"
      }
    },
    {
      "cell_type": "code",
      "source": [
        "import numpy as np\n",
        "import pandas as pd\n",
        "from scipy.stats import skew, kurtosis\n",
        "\n",
        "# Sample dataset (positively skewed)\n",
        "data = np.random.exponential(scale=2.0, size=1000)\n",
        "\n",
        "# Using scipy to calculate skewness and kurtosis\n",
        "skew_value = skew(data)\n",
        "kurtosis_value = kurtosis(data)\n",
        "\n",
        "# Using pandas (alternative method)\n",
        "df = pd.Series(data)\n",
        "skew_pd = df.skew()\n",
        "kurtosis_pd = df.kurt()\n",
        "\n",
        "# Output results\n",
        "print(\"Using scipy:\")\n",
        "print(f\"Skewness: {skew_value:.2f}\")\n",
        "print(f\"Kurtosis: {kurtosis_value:.2f} (excess kurtosis)\")\n",
        "\n",
        "print(\"\\nUsing pandas:\")\n",
        "print(f\"Skewness: {skew_pd:.2f}\")\n",
        "print(f\"Kurtosis: {kurtosis_pd:.2f} (excess kurtosis)\")\n"
      ],
      "metadata": {
        "colab": {
          "base_uri": "https://localhost:8080/"
        },
        "id": "LIGDkVFBKSO7",
        "outputId": "80b5f433-8ae4-44d6-9b44-3aac87a75330"
      },
      "execution_count": null,
      "outputs": [
        {
          "output_type": "stream",
          "name": "stdout",
          "text": [
            "Using scipy:\n",
            "Skewness: 1.70\n",
            "Kurtosis: 3.25 (excess kurtosis)\n",
            "\n",
            "Using pandas:\n",
            "Skewness: 1.70\n",
            "Kurtosis: 3.27 (excess kurtosis)\n"
          ]
        }
      ]
    },
    {
      "cell_type": "markdown",
      "source": [
        "8)  Generate a dataset and demonstrate positive and negative skewness"
      ],
      "metadata": {
        "id": "2xqtIHbPKlYa"
      }
    },
    {
      "cell_type": "code",
      "source": [
        "import numpy as np\n",
        "import matplotlib.pyplot as plt\n",
        "import seaborn as sns\n",
        "from scipy.stats import skew\n",
        "\n",
        "# Generate datasets\n",
        "positive_skew = np.random.exponential(scale=2.0, size=1000)  # Right/Positive skew\n",
        "negative_skew = -np.random.exponential(scale=2.0, size=1000) + 10  # Left/Negative skew\n",
        "\n",
        "# Calculate skewness\n",
        "skew_pos = skew(positive_skew)\n",
        "skew_neg = skew(negative_skew)\n",
        "\n",
        "# Plot both histograms\n",
        "plt.figure(figsize=(14, 5))\n",
        "\n",
        "# Positive skew\n",
        "plt.subplot(1, 2, 1)\n",
        "sns.histplot(positive_skew, bins=30, kde=True, color='skyblue')\n",
        "plt.title(f\"Positive Skewness (Skew = {skew_pos:.2f})\")\n",
        "plt.xlabel(\"Values\")\n",
        "plt.ylabel(\"Frequency\")\n",
        "\n",
        "# Negative skew\n",
        "plt.subplot(1, 2, 2)\n",
        "sns.histplot(negative_skew, bins=30, kde=True, color='salmon')\n",
        "plt.title(f\"Negative Skewness (Skew = {skew_neg:.2f})\")\n",
        "plt.xlabel(\"Values\")\n",
        "plt.ylabel(\"Frequency\")\n",
        "\n",
        "plt.tight_layout()\n",
        "plt.show()\n"
      ],
      "metadata": {
        "colab": {
          "base_uri": "https://localhost:8080/",
          "height": 507
        },
        "id": "RR8sWggWKVpj",
        "outputId": "e12f5aa1-6451-4322-a509-f3b6dffcc6ed"
      },
      "execution_count": null,
      "outputs": [
        {
          "output_type": "display_data",
          "data": {
            "text/plain": [
              "<Figure size 1400x500 with 2 Axes>"
            ],
            "image/png": "[encoded data removed]"
          },
          "metadata": {}
        }
      ]
    },
    {
      "cell_type": "markdown",
      "source": [
        "9) Write a Python script to calculate covariance between two datasets"
      ],
      "metadata": {
        "id": "HXQe64TTK_sz"
      }
    },
    {
      "cell_type": "code",
      "source": [
        "import numpy as np\n",
        "\n",
        "# Sample datasets\n",
        "X = [2, 4, 6, 8, 10,12,14]\n",
        "Y = [1, 3, 5, 7, 9, 11,13]\n",
        "\n",
        "# Step 1: Calculate the means\n",
        "mean_X = np.mean(X)\n",
        "mean_Y = np.mean(Y)\n",
        "\n",
        "# Step 2: Manually calculate covariance\n",
        "covariance = sum((x - mean_X) * (y - mean_Y) for x, y in zip(X, Y)) / len(X)\n",
        "\n",
        "# Step 3: Using NumPy's cov function (note: by default it returns sample covariance)\n",
        "np_cov_matrix = np.cov(X, Y, bias=True)  # Set bias=True for population covariance\n",
        "\n",
        "# Output\n",
        "print(\"Manual Covariance Calculation:\", covariance)\n",
        "print(\"NumPy Covariance Matrix:\\n\", np_cov_matrix)\n",
        "print(\"NumPy Covariance (X, Y):\", np_cov_matrix[0, 1])\n"
      ],
      "metadata": {
        "colab": {
          "base_uri": "https://localhost:8080/"
        },
        "id": "wL24i49uK3pb",
        "outputId": "ad2ecc03-ca7e-4457-bfd2-07d3d5042af8"
      },
      "execution_count": null,
      "outputs": [
        {
          "output_type": "stream",
          "name": "stdout",
          "text": [
            "Manual Covariance Calculation: 16.0\n",
            "NumPy Covariance Matrix:\n",
            " [[16. 16.]\n",
            " [16. 16.]]\n",
            "NumPy Covariance (X, Y): 16.0\n"
          ]
        }
      ]
    },
    {
      "cell_type": "markdown",
      "source": [
        "10) Write a Python script to calculate the correlation coefficient between two datasets"
      ],
      "metadata": {
        "id": "S0_uPbOwL02K"
      }
    },
    {
      "cell_type": "code",
      "source": [
        "import numpy as np\n",
        "import pandas as pd\n",
        "\n",
        "# Sample datasets\n",
        "X = [10, 20, 30, 40, 50,60,70]\n",
        "Y = [15, 25, 35, 45, 55,65,75]\n",
        "\n",
        "# --- Method 1: Manual Calculation ---\n",
        "mean_X = np.mean(X)\n",
        "mean_Y = np.mean(Y)\n",
        "\n",
        "numerator = sum((x - mean_X) * (y - mean_Y) for x, y in zip(X, Y))\n",
        "denominator = (sum((x - mean_X) ** 2 for x in X) * sum((y - mean_Y) ** 2 for y in Y)) ** 0.5\n",
        "\n",
        "correlation_manual = numerator / denominator\n",
        "\n",
        "# --- Method 2: NumPy ---\n",
        "correlation_numpy = np.corrcoef(X, Y)[0, 1]\n",
        "\n",
        "# --- Method 3: Pandas ---\n",
        "df = pd.DataFrame({'X': X, 'Y': Y})\n",
        "correlation_pandas = df.corr().loc['X', 'Y']\n",
        "\n",
        "# Output Results\n",
        "print(f\"Manual Pearson Correlation: {correlation_manual:.4f}\")\n",
        "print(f\"NumPy Correlation Coefficient: {correlation_numpy:.4f}\")\n",
        "print(f\"Pandas Correlation Coefficient: {correlation_pandas:.4f}\")\n"
      ],
      "metadata": {
        "colab": {
          "base_uri": "https://localhost:8080/"
        },
        "id": "NivgmXNtLcQC",
        "outputId": "c20241ba-028d-4645-f62c-9216a3d5524b"
      },
      "execution_count": null,
      "outputs": [
        {
          "output_type": "stream",
          "name": "stdout",
          "text": [
            "Manual Pearson Correlation: 1.0000\n",
            "NumPy Correlation Coefficient: 1.0000\n",
            "Pandas Correlation Coefficient: 1.0000\n"
          ]
        }
      ]
    },
    {
      "cell_type": "markdown",
      "source": [
        "11) Create a scatter plot to visualize the relationship between two variables"
      ],
      "metadata": {
        "id": "x_ZfhME5MXSy"
      }
    },
    {
      "cell_type": "code",
      "source": [
        "import matplotlib.pyplot as plt\n",
        "import seaborn as sns\n",
        "import numpy as np\n",
        "\n",
        "# Sample data: Hours studied vs. Exam score\n",
        "hours_studied = [1, 2, 3, 4, 5, 6, 7, 8, 9, 10]\n",
        "exam_scores = [35, 40, 50, 52, 55, 60, 65, 70, 78, 85]\n",
        "\n",
        "# Create scatter plot\n",
        "plt.figure(figsize=(8, 5))\n",
        "sns.scatterplot(x=hours_studied, y=exam_scores, color='royalblue', s=80)\n",
        "\n",
        "# Plot decorations\n",
        "plt.title(\"Scatter Plot: Hours Studied vs. Exam Score\")\n",
        "plt.xlabel(\"Hours Studied\")\n",
        "plt.ylabel(\"Exam Score\")\n",
        "plt.grid(True)\n",
        "plt.show()\n"
      ],
      "metadata": {
        "colab": {
          "base_uri": "https://localhost:8080/",
          "height": 487
        },
        "id": "mZxLaKKdMFMj",
        "outputId": "50dd1b3a-3aee-4cd7-92b0-791da7dc9eb6"
      },
      "execution_count": null,
      "outputs": [
        {
          "output_type": "display_data",
          "data": {
            "text/plain": [
              "<Figure size 800x500 with 1 Axes>"
            ],
            "image/png": "[encoded data removed]"
          },
          "metadata": {}
        }
      ]
    },
    {
      "cell_type": "markdown",
      "source": [
        "12)Implement and compare simple random sampling and systematic sampling"
      ],
      "metadata": {
        "id": "kcUP16Z3Mke7"
      }
    },
    {
      "cell_type": "code",
      "source": [
        "import random\n",
        "import pandas as pd\n",
        "\n",
        "# Create a sample dataset\n",
        "data = list(range(1, 101))  # Dataset of 100 numbers (1 to 100)\n",
        "\n",
        "# Convert to DataFrame for clarity\n",
        "df = pd.DataFrame({'ID': data})\n",
        "\n",
        "# Sample size\n",
        "sample_size = 10\n",
        "\n",
        "# --- Simple Random Sampling ---\n",
        "random_sample = random.sample(data, sample_size)\n",
        "df_random = pd.DataFrame({'Simple Random Sample': random_sample})\n",
        "\n",
        "# --- Systematic Sampling ---\n",
        "k = len(data) // sample_size  # Sampling interval\n",
        "start = random.randint(0, k - 1)  # Random start point\n",
        "systematic_sample = [data[i] for i in range(start, len(data), k)][:sample_size]\n",
        "df_systematic = pd.DataFrame({'Systematic Sample': systematic_sample})\n",
        "\n",
        "# Combine and show both samples side-by-side\n",
        "result = pd.concat([df_random, df_systematic], axis=1)\n",
        "print(result)\n"
      ],
      "metadata": {
        "colab": {
          "base_uri": "https://localhost:8080/"
        },
        "id": "EY4epnh9MwA7",
        "outputId": "5a8d8d7a-eb8d-4565-be0f-0f737d6f1794"
      },
      "execution_count": null,
      "outputs": [
        {
          "output_type": "stream",
          "name": "stdout",
          "text": [
            "   Simple Random Sample  Systematic Sample\n",
            "0                    74                  1\n",
            "1                    67                 11\n",
            "2                    32                 21\n",
            "3                    13                 31\n",
            "4                    73                 41\n",
            "5                    79                 51\n",
            "6                    21                 61\n",
            "7                    39                 71\n",
            "8                    33                 81\n",
            "9                    52                 91\n"
          ]
        }
      ]
    },
    {
      "cell_type": "markdown",
      "source": [
        "13) Calculate the mean, median, and mode of grouped data"
      ],
      "metadata": {
        "id": "_ZWlF5O3X6qZ"
      }
    },
    {
      "cell_type": "code",
      "source": [
        "import pandas as pd\n",
        "import numpy as np\n",
        "from statistics import mode\n",
        "\n",
        "# Define grouped data\n",
        "class_intervals = [(0, 10), (10, 20), (20, 30), (30, 40), (40, 50)]\n",
        "frequencies = [5, 8, 15, 16, 6]\n",
        "\n",
        "# Calculate midpoints\n",
        "midpoints = [(low + high) / 2 for low, high in class_intervals]\n",
        "\n",
        "# Total frequency\n",
        "N = sum(frequencies)\n",
        "\n",
        "#  Mean\n",
        "mean = sum(f * m for f, m in zip(frequencies, midpoints)) / N\n",
        "\n",
        "# Median\n",
        "cumulative_frequencies = np.cumsum(frequencies)\n",
        "median_class_index = next(i for i, cf in enumerate(cumulative_frequencies) if cf >= N / 2)\n",
        "L = class_intervals[median_class_index][0]\n",
        "f = frequencies[median_class_index]\n",
        "F = cumulative_frequencies[median_class_index - 1] if median_class_index > 0 else 0\n",
        "h = class_intervals[median_class_index][1] - class_intervals[median_class_index][0]\n",
        "median = L + ((N / 2 - F) / f) * h\n",
        "\n",
        "#  Mode\n",
        "modal_class_index = frequencies.index(max(frequencies))\n",
        "L_modal = class_intervals[modal_class_index][0]\n",
        "f1 = frequencies[modal_class_index]\n",
        "f0 = frequencies[modal_class_index - 1] if modal_class_index > 0 else 0\n",
        "f2 = frequencies[modal_class_index + 1] if modal_class_index + 1 < len(frequencies) else 0\n",
        "h_modal = class_intervals[modal_class_index][1] - class_intervals[modal_class_index][0]\n",
        "mode_value = L_modal + ((f1 - f0) / ((f1 - f0) + (f1 - f2))) * h_modal if (f1 - f0 + f1 - f2) != 0 else L_modal\n",
        "\n",
        "# Print results\n",
        "print(f\"Mean: {mean:.2f}\")\n",
        "print(f\"Median: {median:.2f}\")\n",
        "print(f\"Mode: {mode_value:.2f}\")\n"
      ],
      "metadata": {
        "colab": {
          "base_uri": "https://localhost:8080/"
        },
        "id": "ps-VoBy6X-6d",
        "outputId": "20420bbb-bc6c-4c66-cb81-c200d6ca998a"
      },
      "execution_count": null,
      "outputs": [
        {
          "output_type": "stream",
          "name": "stdout",
          "text": [
            "Mean: 27.00\n",
            "Median: 28.00\n",
            "Mode: 30.91\n"
          ]
        }
      ]
    },
    {
      "cell_type": "markdown",
      "source": [
        "14) Simulate data using Python and calculate its central tendency and dispersion"
      ],
      "metadata": {
        "id": "dMXWgqWcYO2k"
      }
    },
    {
      "cell_type": "code",
      "source": [
        "import numpy as np\n",
        "import pandas as pd\n",
        "from scipy import stats\n",
        "\n",
        "# Step 1: Simulate a dataset (e.g., test scores of 100 students)\n",
        "np.random.seed(42)  # for reproducibility\n",
        "data = np.random.normal(loc=70, scale=10, size=100)  # mean=70, std=10\n",
        "\n",
        "# Step 2: Convert to pandas Series\n",
        "df = pd.Series(data)\n",
        "\n",
        "# Step 3: Central Tendency\n",
        "mean = df.mean()\n",
        "median = df.median()\n",
        "mode = df.mode()[0]  # mode can return multiple values\n",
        "\n",
        "# Step 4: Dispersion\n",
        "variance = df.var()\n",
        "std_dev = df.std()\n",
        "data_range = df.max() - df.min()\n",
        "iqr = stats.iqr(df)\n",
        "\n",
        "# Step 5: Display Results\n",
        "print(f\"Central Tendency:\")\n",
        "print(f\"Mean   = {mean:.2f}\")\n",
        "print(f\"Median = {median:.2f}\")\n",
        "print(f\"Mode   = {mode:.2f}\\n\")\n",
        "\n",
        "print(f\"Dispersion:\")\n",
        "print(f\"Variance       = {variance:.2f}\")\n",
        "print(f\"Std Deviation  = {std_dev:.2f}\")\n",
        "print(f\"Range          = {data_range:.2f}\")\n",
        "print(f\"IQR (Q3 - Q1)  = {iqr:.2f}\")\n"
      ],
      "metadata": {
        "colab": {
          "base_uri": "https://localhost:8080/"
        },
        "id": "eD4VQ_84YWeN",
        "outputId": "a0da419a-3c05-49d3-e04a-990641ea6125"
      },
      "execution_count": null,
      "outputs": [
        {
          "output_type": "stream",
          "name": "stdout",
          "text": [
            "Central Tendency:\n",
            "Mean   = 68.96\n",
            "Median = 68.73\n",
            "Mode   = 43.80\n",
            "\n",
            "Dispersion:\n",
            "Variance       = 82.48\n",
            "Std Deviation  = 9.08\n",
            "Range          = 44.72\n",
            "IQR (Q3 - Q1)  = 10.07\n"
          ]
        }
      ]
    },
    {
      "cell_type": "markdown",
      "source": [
        "15) Use NumPy or pandas to summarize a dataset’s descriptive statistics"
      ],
      "metadata": {
        "id": "Q0fn7ys9Ym4l"
      }
    },
    {
      "cell_type": "code",
      "source": [
        "import pandas as pd\n",
        "import numpy as np\n",
        "\n",
        "# Simulate dataset: exam scores of 100 students\n",
        "np.random.seed(42)\n",
        "data = np.random.normal(loc=75, scale=10, size=100)\n",
        "\n",
        "# Convert to DataFrame\n",
        "df = pd.DataFrame({'Exam Scores': data})\n",
        "\n",
        "# Descriptive statistics using pandas\n",
        "summary = df.describe()\n",
        "\n",
        "print(\"Descriptive Statistics (pandas):\")\n",
        "print(summary)\n"
      ],
      "metadata": {
        "colab": {
          "base_uri": "https://localhost:8080/"
        },
        "id": "OORz24bHYv6F",
        "outputId": "3eb979bb-1391-4b81-ef44-601a21e9de3b"
      },
      "execution_count": null,
      "outputs": [
        {
          "output_type": "stream",
          "name": "stdout",
          "text": [
            "Descriptive Statistics (pandas):\n",
            "       Exam Scores\n",
            "count   100.000000\n",
            "mean     73.961535\n",
            "std       9.081684\n",
            "min      48.802549\n",
            "25%      68.990943\n",
            "50%      73.730437\n",
            "75%      79.059521\n",
            "max      93.522782\n"
          ]
        }
      ]
    },
    {
      "cell_type": "markdown",
      "source": [
        "16) Plot a boxplot to understand the spread and identify outliers"
      ],
      "metadata": {
        "id": "t97aEZcRZCTL"
      }
    },
    {
      "cell_type": "code",
      "source": [
        "import numpy as np\n",
        "import pandas as pd\n",
        "import seaborn as sns\n",
        "import matplotlib.pyplot as plt\n",
        "\n",
        "# Simulate dataset (e.g., test scores of 100 students)\n",
        "np.random.seed(42)\n",
        "data = np.random.normal(loc=75, scale=10, size=100)\n",
        "\n",
        "# Add a few outliers\n",
        "data_with_outliers = np.append(data, [40, 130, 135])\n",
        "\n",
        "# Convert to pandas Series\n",
        "df = pd.DataFrame({'Exam Scores': data_with_outliers})\n",
        "\n",
        "# Plot boxplot\n",
        "plt.figure(figsize=(8, 5))\n",
        "sns.boxplot(x=df['Exam Scores'], color='skyblue')\n",
        "plt.title(\"Boxplot of Exam Scores\")\n",
        "plt.xlabel(\"Score\")\n",
        "plt.grid(True)\n",
        "plt.show()\n"
      ],
      "metadata": {
        "colab": {
          "base_uri": "https://localhost:8080/",
          "height": 487
        },
        "id": "5FWIp9s8ZJmE",
        "outputId": "cf661019-2326-4ccf-f995-6a49da134951"
      },
      "execution_count": null,
      "outputs": [
        {
          "output_type": "display_data",
          "data": {
            "text/plain": [
              "<Figure size 800x500 with 1 Axes>"
            ],
            "image/png": "[encoded data removed]"
          },
          "metadata": {}
        }
      ]
    },
    {
      "cell_type": "markdown",
      "source": [
        "17) Calculate the interquartile range (IQR) of a dataset"
      ],
      "metadata": {
        "id": "_MGBx1FJZWol"
      }
    },
    {
      "cell_type": "code",
      "source": [
        "import numpy as np\n",
        "\n",
        "# Simulate a dataset (e.g., ages of people)\n",
        "data = [23, 25, 29, 30, 31, 35, 36, 38, 41, 45, 47, 50, 55]\n",
        "\n",
        "# --- Method 1: Using NumPy ---\n",
        "q1 = np.percentile(data, 25)\n",
        "q3 = np.percentile(data, 75)\n",
        "iqr_numpy = q3 - q1\n",
        "\n",
        "# Output\n",
        "print(f\"IQR (NumPy):  {iqr_numpy}\")\n",
        "\n"
      ],
      "metadata": {
        "colab": {
          "base_uri": "https://localhost:8080/"
        },
        "id": "dbH8WutYZdXD",
        "outputId": "e4e6ea97-f54b-4d6b-bf64-ed9691c48ae5"
      },
      "execution_count": null,
      "outputs": [
        {
          "output_type": "stream",
          "name": "stdout",
          "text": [
            "IQR (NumPy):  15.0\n"
          ]
        }
      ]
    },
    {
      "cell_type": "markdown",
      "source": [
        "18) Implement Z-score normalization and explain its significance"
      ],
      "metadata": {
        "id": "yGSgNENzZ-FD"
      }
    },
    {
      "cell_type": "code",
      "source": [
        "import numpy as np\n",
        "import pandas as pd\n",
        "\n",
        "# Simulate a dataset (e.g., customer income)\n",
        "data = [30_000, 40_000, 50_000, 60_000, 70_000, 80_000]\n",
        "\n",
        "# Convert to pandas Series\n",
        "df = pd.Series(data)\n",
        "\n",
        "# Z-score normalization\n",
        "mean = df.mean()\n",
        "std = df.std()\n",
        "z_scores = (df - mean) / std\n",
        "\n",
        "# Display results\n",
        "normalized_df = pd.DataFrame({\n",
        "    'Original': df,\n",
        "    'Z-Score': z_scores\n",
        "})\n",
        "\n",
        "print(normalized_df)\n"
      ],
      "metadata": {
        "colab": {
          "base_uri": "https://localhost:8080/"
        },
        "id": "GK-TltUjawcb",
        "outputId": "f5bb8788-92fe-4e8a-fd23-e9311afd59f3"
      },
      "execution_count": null,
      "outputs": [
        {
          "output_type": "stream",
          "name": "stdout",
          "text": [
            "   Original   Z-Score\n",
            "0     30000 -1.336306\n",
            "1     40000 -0.801784\n",
            "2     50000 -0.267261\n",
            "3     60000  0.267261\n",
            "4     70000  0.801784\n",
            "5     80000  1.336306\n"
          ]
        }
      ]
    },
    {
      "cell_type": "markdown",
      "source": [
        "19) Compare two datasets using their standard deviations"
      ],
      "metadata": {
        "id": "gD_igRjSbUrL"
      }
    },
    {
      "cell_type": "code",
      "source": [
        "import numpy as np\n",
        "\n",
        "# Dataset A: Exam scores from Class A\n",
        "class_a = [70, 72, 68, 65, 75, 80, 78, 74, 69, 71]\n",
        "\n",
        "# Dataset B: Exam scores from Class B\n",
        "class_b = [55, 60, 85, 40, 95, 70, 50, 90, 45, 100]\n",
        "\n",
        "# Calculate standard deviations\n",
        "std_a = np.std(class_a, ddof=1)  # sample std dev\n",
        "std_b = np.std(class_b, ddof=1)\n",
        "\n",
        "# Display results\n",
        "print(f\"Standard Deviation of Class A: {std_a:.2f}\")\n",
        "print(f\"Standard Deviation of Class B: {std_b:.2f}\")\n"
      ],
      "metadata": {
        "colab": {
          "base_uri": "https://localhost:8080/"
        },
        "id": "RG7EfEE3bgyj",
        "outputId": "35c585e6-1ca1-4171-d7da-45133bf94db0"
      },
      "execution_count": null,
      "outputs": [
        {
          "output_type": "stream",
          "name": "stdout",
          "text": [
            "Standard Deviation of Class A: 4.61\n",
            "Standard Deviation of Class B: 22.09\n"
          ]
        }
      ]
    },
    {
      "cell_type": "code",
      "source": [
        "20) Write a Python program to visualize covariance using a heatmap"
      ],
      "metadata": {
        "id": "b12kWjhdbmey"
      },
      "execution_count": null,
      "outputs": []
    },
    {
      "cell_type": "code",
      "source": [
        "import numpy as np\n",
        "import pandas as pd\n",
        "import seaborn as sns\n",
        "import matplotlib.pyplot as plt\n",
        "\n",
        "# Step 1: Simulate a dataset with multiple features\n",
        "np.random.seed(0)\n",
        "data = {\n",
        "    'Math Score': np.random.normal(70, 10, 100),\n",
        "    'Science Score': np.random.normal(75, 15, 100),\n",
        "    'English Score': np.random.normal(65, 12, 100)\n",
        "}\n",
        "\n",
        "df = pd.DataFrame(data)\n",
        "\n",
        "# Step 2: Calculate the covariance matrix\n",
        "cov_matrix = df.cov()\n",
        "\n",
        "# Step 3: Plot the covariance heatmap\n",
        "plt.figure(figsize=(8, 6))\n",
        "sns.heatmap(cov_matrix, annot=True, cmap=\"YlGnBu\", fmt=\".2f\")\n",
        "plt.title(\"Covariance Heatmap of Exam Scores\")\n",
        "plt.tight_layout()\n",
        "plt.show()\n"
      ],
      "metadata": {
        "colab": {
          "base_uri": "https://localhost:8080/",
          "height": 607
        },
        "id": "3oCo06Yhb1qT",
        "outputId": "13541603-ec6f-45ad-c82e-63bb680d39a9"
      },
      "execution_count": null,
      "outputs": [
        {
          "output_type": "display_data",
          "data": {
            "text/plain": [
              "<Figure size 800x600 with 2 Axes>"
            ],
            "image/png": "[encoded data removed]"
          },
          "metadata": {}
        }
      ]
    },
    {
      "cell_type": "markdown",
      "source": [
        "21)  Use seaborn to create a correlation matrix for a dataset"
      ],
      "metadata": {
        "id": "AKulVTtob8eS"
      }
    },
    {
      "cell_type": "code",
      "source": [
        "import numpy as np\n",
        "import pandas as pd\n",
        "import seaborn as sns\n",
        "import matplotlib.pyplot as plt\n",
        "\n",
        "# Step 1: Simulate a dataset\n",
        "np.random.seed(42)\n",
        "data = {\n",
        "    'Height (cm)': np.random.normal(170, 10, 100),\n",
        "    'Weight (kg)': np.random.normal(65, 15, 100),\n",
        "    'Age': np.random.normal(30, 5, 100),\n",
        "    'Income ($)': np.random.normal(50000, 8000, 100)\n",
        "}\n",
        "\n",
        "df = pd.DataFrame(data)\n",
        "\n",
        "# Step 2: Compute correlation matrix\n",
        "corr_matrix = df.corr()\n",
        "\n",
        "# Step 3: Create correlation heatmap\n",
        "plt.figure(figsize=(8, 6))\n",
        "sns.heatmap(corr_matrix, annot=True, cmap=\"coolwarm\", center=0, fmt=\".2f\", linewidths=0.5)\n",
        "plt.title(\"Correlation Matrix Heatmap\")\n",
        "plt.tight_layout()\n",
        "plt.show()\n"
      ],
      "metadata": {
        "colab": {
          "base_uri": "https://localhost:8080/",
          "height": 607
        },
        "id": "HF6PoH3IcH7w",
        "outputId": "973bb315-b8c0-4b80-9476-e96b71c1f5f8"
      },
      "execution_count": null,
      "outputs": [
        {
          "output_type": "display_data",
          "data": {
            "text/plain": [
              "<Figure size 800x600 with 2 Axes>"
            ],
            "image/png": "[encoded data removed]"
          },
          "metadata": {}
        }
      ]
    },
    {
      "cell_type": "markdown",
      "source": [
        "22) Generate a dataset and implement both variance and standard deviation computations"
      ],
      "metadata": {
        "id": "yBvclREMcxvz"
      }
    },
    {
      "cell_type": "code",
      "source": [
        "import numpy as np\n",
        "\n",
        "# Step 1: Generate a dataset\n",
        "np.random.seed(1)\n",
        "scores = np.random.randint(60, 100, size=20)  # 20 exam scores between 60 and 99\n",
        "\n",
        "# Step 2: Convert to pandas Series\n",
        "df = pd.Series(scores)\n",
        "\n",
        "# Step 3: Variance and Standard Deviation\n",
        "\n",
        "# Using NumPy\n",
        "variance_np = np.var(scores, ddof=1)        # sample variance\n",
        "std_dev_np = np.std(scores, ddof=1)         # sample std deviation\n",
        "\n",
        "\n",
        "\n",
        "# Step 4: Output\n",
        "print(\"Dataset (Scores):\")\n",
        "print(scores, \"\\n\")\n",
        "\n",
        "print(\"Using NumPy:\")\n",
        "print(f\"Variance       = {variance_np:.2f}\")\n",
        "print(f\"Std Deviation  = {std_dev_np:.2f}\")\n",
        "\n"
      ],
      "metadata": {
        "colab": {
          "base_uri": "https://localhost:8080/"
        },
        "id": "kM0KAobXc7qi",
        "outputId": "e916f977-3d01-434d-de71-03277bf421fd"
      },
      "execution_count": null,
      "outputs": [
        {
          "output_type": "stream",
          "name": "stdout",
          "text": [
            "Dataset (Scores):\n",
            "[97 72 68 69 71 65 75 60 76 61 72 67 66 85 80 97 78 80 71 88] \n",
            "\n",
            "Using NumPy:\n",
            "Variance       = 110.41\n",
            "Std Deviation  = 10.51\n"
          ]
        }
      ]
    },
    {
      "cell_type": "markdown",
      "source": [
        "23) Visualize skewness and kurtosis using Python libraries like matplotlib or seaborn"
      ],
      "metadata": {
        "id": "lDwPRR55dLVZ"
      }
    },
    {
      "cell_type": "code",
      "source": [
        "import numpy as np\n",
        "import pandas as pd\n",
        "import seaborn as sns\n",
        "import matplotlib.pyplot as plt\n",
        "from scipy.stats import skew, kurtosis\n",
        "\n",
        "# Step 1: Generate a sample dataset (positively skewed)\n",
        "np.random.seed(42)\n",
        "data = np.random.exponential(scale=2, size=1000)\n",
        "\n",
        "# Step 2: Convert to pandas Series\n",
        "df = pd.Series(data)\n",
        "\n",
        "# Step 3: Calculate skewness and kurtosis\n",
        "skewness = skew(df)\n",
        "kurt = kurtosis(df)  # Fisher's definition (normal = 0)\n",
        "\n",
        "# Step 4: Plot distribution\n",
        "plt.figure(figsize=(10, 5))\n",
        "sns.histplot(df, bins=40, kde=True, color='skyblue')\n",
        "plt.title(f\"Distribution with Skewness = {skewness:.2f}, Kurtosis = {kurt:.2f}\")\n",
        "plt.xlabel(\"Value\")\n",
        "plt.ylabel(\"Frequency\")\n",
        "plt.grid(True)\n",
        "plt.show()\n"
      ],
      "metadata": {
        "colab": {
          "base_uri": "https://localhost:8080/",
          "height": 487
        },
        "id": "L3zjvK2udd7a",
        "outputId": "b93cedc9-317e-40fd-a6bb-d904e9e88854"
      },
      "execution_count": null,
      "outputs": [
        {
          "output_type": "display_data",
          "data": {
            "text/plain": [
              "<Figure size 1000x500 with 1 Axes>"
            ],
            "image/png": "[encoded data removed]"
          },
          "metadata": {}
        }
      ]
    },
    {
      "cell_type": "markdown",
      "source": [
        "24) Implement the Pearson and Spearman correlation coefficients for a dataset"
      ],
      "metadata": {
        "id": "hMn77zX2dul8"
      }
    },
    {
      "cell_type": "code",
      "source": [
        "import numpy as np\n",
        "import pandas as pd\n",
        "from scipy.stats import pearsonr, spearmanr\n",
        "\n",
        "# Sample dataset\n",
        "np.random.seed(0)\n",
        "x = np.random.normal(50, 10, 100)\n",
        "y = 2 * x + np.random.normal(0, 10, 100)  # Strong linear relationship\n",
        "\n",
        "# Convert to DataFrame\n",
        "df = pd.DataFrame({'X': x, 'Y': y})\n",
        "\n",
        "# Pearson correlation\n",
        "pearson_corr, pearson_p = pearsonr(df['X'], df['Y'])\n",
        "\n",
        "# Spearman correlation\n",
        "spearman_corr, spearman_p = spearmanr(df['X'], df['Y'])\n",
        "\n",
        "# Output\n",
        "print(\"Correlation Coefficients:\")\n",
        "print(f\"Pearson Correlation:  {pearson_corr:.2f} (p-value = {pearson_p:.4f})\")\n",
        "print(f\"Spearman Correlation: {spearman_corr:.2f} (p-value = {spearman_p:.4f})\")\n"
      ],
      "metadata": {
        "colab": {
          "base_uri": "https://localhost:8080/"
        },
        "id": "ES03WS9Mdz1a",
        "outputId": "81d25d43-fb43-4b68-90a5-79d9747f21b0"
      },
      "execution_count": null,
      "outputs": [
        {
          "output_type": "stream",
          "name": "stdout",
          "text": [
            "Correlation Coefficients:\n",
            "Pearson Correlation:  0.90 (p-value = 0.0000)\n",
            "Spearman Correlation: 0.88 (p-value = 0.0000)\n"
          ]
        }
      ]
    },
    {
      "cell_type": "code",
      "source": [],
      "metadata": {
        "id": "WNlbWO8Hd6cY"
      },
      "execution_count": null,
      "outputs": []
    }
  ]
}